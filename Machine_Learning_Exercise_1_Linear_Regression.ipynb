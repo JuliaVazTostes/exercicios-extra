{
  "nbformat": 4,
  "nbformat_minor": 0,
  "metadata": {
    "colab": {
      "name": "Machine Learning Exercise 1 - Linear Regression.ipynb",
      "provenance": [],
      "authorship_tag": "ABX9TyNSU+Wpt+T4PlRLeaCRxu8N",
      "include_colab_link": true
    },
    "kernelspec": {
      "name": "python3",
      "display_name": "Python 3"
    }
  },
  "cells": [
    {
      "cell_type": "markdown",
      "metadata": {
        "id": "view-in-github",
        "colab_type": "text"
      },
      "source": [
        "<a href=\"https://colab.research.google.com/github/JuliaVazTostes/exercicios-extra/blob/master/Machine_Learning_Exercise_1_Linear_Regression.ipynb\" target=\"_parent\"><img src=\"https://colab.research.google.com/assets/colab-badge.svg\" alt=\"Open In Colab\"/></a>"
      ]
    },
    {
      "cell_type": "markdown",
      "metadata": {
        "id": "hBBs_29sOUHH",
        "colab_type": "text"
      },
      "source": [
        "# **REGRESSÃO LINEAR - MACHINE LEARNING**\n",
        "\n",
        "### REGRESSÃO LINEAR SIMPLES\n",
        "\n",
        "**Link para exercício**: https://www.johnwittenauer.net/machine-learning-exercises-in-python-part-1/\n",
        "\n",
        "Regressão linear é utilizada para modelar o relacionamento entre uma variável dependente e uma ou mais variáveis ​​independentes.\n",
        "*   Quando há apenas uma variável independente, será chamada de regressão linear simples \n",
        "*   Quando houver mais de uma variável independente, será chamada de regressão linear múltipla\n",
        "\n",
        "O objetivo do exercício é implementar uma regressão linear simples para predição de lucros e uma cadeia de truck food. A análise irá auxiliar na tomada de decisão se deve abrir novas unidades em novas cidades. A cadeia já tem unidades em diversas cidades, então esta disponível os dados sobre a população das cidades e o lucro, e com base nesses dados decidir em quais cidades a expansão da cadeia deve ser feita.\n",
        "\n",
        "Será criado um modelo linear dos dados X, usando parâmetros theta, que descreve a variação dos dados, de modo que, considerando um novo ponto de dados que não esteja em X, pode-se prever com precisão qual seria o resultado y sem realmente saber o que é y.\n",
        "\n",
        "Será utilizada uma técnica de otimização para encontrar os parâmetros theta conhecida como gradiente descendente. Há outra maneira de encontrar os parâmetros ideais para um modelo linear chamada \"equação normal\", que basicamente resolve o problema de uma só vez usando uma série de cálculos matriciais, mas essa abordagem não é dimensionada muito bem para grandes conjuntos de dados. Portanto, para problemas de aprendizado de máquina, essa abordagem é mais prática.\n",
        "\n"
      ]
    },
    {
      "cell_type": "code",
      "metadata": {
        "id": "E0uf-FlaNvK0",
        "colab_type": "code",
        "colab": {}
      },
      "source": [
        "import numpy as np\n",
        "import pandas as pd\n",
        "import matplotlib.pyplot as plt\n",
        "%matplotlib inline"
      ],
      "execution_count": 0,
      "outputs": []
    },
    {
      "cell_type": "code",
      "metadata": {
        "id": "9UOiD2moNzZ1",
        "colab_type": "code",
        "outputId": "66ecd282-5968-48ba-91d7-3690a0b5410f",
        "colab": {
          "base_uri": "https://localhost:8080/",
          "height": 204
        }
      },
      "source": [
        "# IMPORTAR ARQUIVOS DO GITHUB: Sempre que trabalhamos com arquivos do GitHub, a melhor forma é sempre usar o endereço raw do arquivo. Vá ao repositório, \n",
        "# entre no arquivo que deseja abrir -> botão Raw -> copiar o endereço do navegador\n",
        "# se o arquivo tivesse cabeçalho poderia ser utilizado:\n",
        "\n",
        "#      dataset_path=\"https://raw.githubusercontent.com/jdwittenauer/ipython-notebooks/master/data/ex1data1.txt\"\n",
        "\n",
        "#      df = pd.read_csv(dataset_path)\n",
        "\n",
        "# Mas como não possui, tem que ser montado da seguinte forma:\n",
        "\n",
        "df = pd.read_csv(\"https://raw.githubusercontent.com/jdwittenauer/ipython-notebooks/master/data/ex1data1.txt\", header=None, names=['Population', 'Profit'])\n",
        "\n",
        "# mostrar o dataset\n",
        "\n",
        "df.head()"
      ],
      "execution_count": 33,
      "outputs": [
        {
          "output_type": "execute_result",
          "data": {
            "text/html": [
              "<div>\n",
              "<style scoped>\n",
              "    .dataframe tbody tr th:only-of-type {\n",
              "        vertical-align: middle;\n",
              "    }\n",
              "\n",
              "    .dataframe tbody tr th {\n",
              "        vertical-align: top;\n",
              "    }\n",
              "\n",
              "    .dataframe thead th {\n",
              "        text-align: right;\n",
              "    }\n",
              "</style>\n",
              "<table border=\"1\" class=\"dataframe\">\n",
              "  <thead>\n",
              "    <tr style=\"text-align: right;\">\n",
              "      <th></th>\n",
              "      <th>Population</th>\n",
              "      <th>Profit</th>\n",
              "    </tr>\n",
              "  </thead>\n",
              "  <tbody>\n",
              "    <tr>\n",
              "      <th>0</th>\n",
              "      <td>6.1101</td>\n",
              "      <td>17.5920</td>\n",
              "    </tr>\n",
              "    <tr>\n",
              "      <th>1</th>\n",
              "      <td>5.5277</td>\n",
              "      <td>9.1302</td>\n",
              "    </tr>\n",
              "    <tr>\n",
              "      <th>2</th>\n",
              "      <td>8.5186</td>\n",
              "      <td>13.6620</td>\n",
              "    </tr>\n",
              "    <tr>\n",
              "      <th>3</th>\n",
              "      <td>7.0032</td>\n",
              "      <td>11.8540</td>\n",
              "    </tr>\n",
              "    <tr>\n",
              "      <th>4</th>\n",
              "      <td>5.8598</td>\n",
              "      <td>6.8233</td>\n",
              "    </tr>\n",
              "  </tbody>\n",
              "</table>\n",
              "</div>"
            ],
            "text/plain": [
              "   Population   Profit\n",
              "0      6.1101  17.5920\n",
              "1      5.5277   9.1302\n",
              "2      8.5186  13.6620\n",
              "3      7.0032  11.8540\n",
              "4      5.8598   6.8233"
            ]
          },
          "metadata": {
            "tags": []
          },
          "execution_count": 33
        }
      ]
    },
    {
      "cell_type": "code",
      "metadata": {
        "id": "PnjeDOSwTMPj",
        "colab_type": "code",
        "outputId": "eff0619e-7047-4c45-b004-5c46654e907b",
        "colab": {
          "base_uri": "https://localhost:8080/",
          "height": 297
        }
      },
      "source": [
        "# Resumo estatístico dos dados\n",
        "\n",
        "df.describe()"
      ],
      "execution_count": 34,
      "outputs": [
        {
          "output_type": "execute_result",
          "data": {
            "text/html": [
              "<div>\n",
              "<style scoped>\n",
              "    .dataframe tbody tr th:only-of-type {\n",
              "        vertical-align: middle;\n",
              "    }\n",
              "\n",
              "    .dataframe tbody tr th {\n",
              "        vertical-align: top;\n",
              "    }\n",
              "\n",
              "    .dataframe thead th {\n",
              "        text-align: right;\n",
              "    }\n",
              "</style>\n",
              "<table border=\"1\" class=\"dataframe\">\n",
              "  <thead>\n",
              "    <tr style=\"text-align: right;\">\n",
              "      <th></th>\n",
              "      <th>Population</th>\n",
              "      <th>Profit</th>\n",
              "    </tr>\n",
              "  </thead>\n",
              "  <tbody>\n",
              "    <tr>\n",
              "      <th>count</th>\n",
              "      <td>97.000000</td>\n",
              "      <td>97.000000</td>\n",
              "    </tr>\n",
              "    <tr>\n",
              "      <th>mean</th>\n",
              "      <td>8.159800</td>\n",
              "      <td>5.839135</td>\n",
              "    </tr>\n",
              "    <tr>\n",
              "      <th>std</th>\n",
              "      <td>3.869884</td>\n",
              "      <td>5.510262</td>\n",
              "    </tr>\n",
              "    <tr>\n",
              "      <th>min</th>\n",
              "      <td>5.026900</td>\n",
              "      <td>-2.680700</td>\n",
              "    </tr>\n",
              "    <tr>\n",
              "      <th>25%</th>\n",
              "      <td>5.707700</td>\n",
              "      <td>1.986900</td>\n",
              "    </tr>\n",
              "    <tr>\n",
              "      <th>50%</th>\n",
              "      <td>6.589400</td>\n",
              "      <td>4.562300</td>\n",
              "    </tr>\n",
              "    <tr>\n",
              "      <th>75%</th>\n",
              "      <td>8.578100</td>\n",
              "      <td>7.046700</td>\n",
              "    </tr>\n",
              "    <tr>\n",
              "      <th>max</th>\n",
              "      <td>22.203000</td>\n",
              "      <td>24.147000</td>\n",
              "    </tr>\n",
              "  </tbody>\n",
              "</table>\n",
              "</div>"
            ],
            "text/plain": [
              "       Population     Profit\n",
              "count   97.000000  97.000000\n",
              "mean     8.159800   5.839135\n",
              "std      3.869884   5.510262\n",
              "min      5.026900  -2.680700\n",
              "25%      5.707700   1.986900\n",
              "50%      6.589400   4.562300\n",
              "75%      8.578100   7.046700\n",
              "max     22.203000  24.147000"
            ]
          },
          "metadata": {
            "tags": []
          },
          "execution_count": 34
        }
      ]
    },
    {
      "cell_type": "code",
      "metadata": {
        "id": "O8FM4zdzUlWz",
        "colab_type": "code",
        "outputId": "ae58bfbe-8079-4a0a-8a5e-7daf46b6fa6f",
        "colab": {
          "base_uri": "https://localhost:8080/",
          "height": 514
        }
      },
      "source": [
        "# Plotar o gráfico para entender melhor como o dado se distribui\n",
        "\n",
        "df.plot(kind='scatter', x='Population', y='Profit', figsize=(12,8))"
      ],
      "execution_count": 35,
      "outputs": [
        {
          "output_type": "execute_result",
          "data": {
            "text/plain": [
              "<matplotlib.axes._subplots.AxesSubplot at 0x7f49d57712b0>"
            ]
          },
          "metadata": {
            "tags": []
          },
          "execution_count": 35
        },
        {
          "output_type": "display_data",
          "data": {
            "image/png": "[encoded data removed]",
            "text/plain": [
              "<Figure size 864x576 with 1 Axes>"
            ]
          },
          "metadata": {
            "tags": []
          }
        }
      ]
    },
    {
      "cell_type": "code",
      "metadata": {
        "id": "IcIv3RdxVLOS",
        "colab_type": "code",
        "colab": {}
      },
      "source": [
        "# Agora, podemos implementar regressão linear usando um gradiente descendente para minimizar a função custo. \n",
        "# O objetivo da regressão linear é minimizar a função custo\n",
        "# Os parâmetros do modelo são os valroes de theta, e esses serão os valores que serão ajustados para minimizar o custo J(theta). Uma forma de fazer isso é\n",
        "# utilizando o algoritmo gradiente descendente \"batch\", onde cada iteração é um update. Em cada passo do gradiente descendente, o valor de theta se aproxima\n",
        "# mais do valor ótimo para o menor custo ser atingido.\n",
        "\n",
        "# As equações implementadas nos seguintes exemplos de código estão detalhadas em \"ex1.pdf\" na pasta \"exercícios\".\n",
        "\n",
        "# Primeiro, é necessário criar a função custo de uma dada solução (caracterizada pelos parâmetros theta).\n",
        "# A função de custo avalia a qualidade do modelo através do calculo do erro entre a previsão feita pelo modelo para um ponto e o valor real desse ponto. \n",
        "\n",
        "# Por exemplo, se a população de uma cidade é 4 e o modelo preveu 7, nosso erro é (7-4) ^ 2 = 3 ^ 2 = 9 (assumindo uma função de perda L2 ou \"mínimos quadrados\"). \n",
        "# Isso é feito para cada ponto de X e o resultado é somado para obter o custo. \n",
        "\n",
        "def computeCost(X, y, theta):\n",
        "    inner = np.power(((X * theta.T) - y), 2)\n",
        "    return np.sum(inner) / (2 * len(X))"
      ],
      "execution_count": 0,
      "outputs": []
    },
    {
      "cell_type": "code",
      "metadata": {
        "id": "RQk5KGgZWncb",
        "colab_type": "code",
        "colab": {}
      },
      "source": [
        "# Observe que não há loops. Estamos aproveitando os recursos de algrebra linear da numpy para calcular o resultado como uma série de operações de matriz. \n",
        "# Isso é muito mais eficiente em termos computacionais do que um loop \"para\" não otimizado.\n",
        "\n",
        "#  Para a função de custo funcionar perfeitamente com o dataframe criado, é necessário manipular o dataframa. \n",
        "# 1) Inserir uma coluna de '1's para fazer com que as operações da matriz funcionem corretamente (basicamente, essa inserção é responsável pela interceptação \n",
        "# na equação linear). \n",
        "# 2) Separar o dataframe em variáveis ​​independentes (X) e dependente (y).\n",
        "\n",
        "df.insert(0, 'Ones', 1)"
      ],
      "execution_count": 0,
      "outputs": []
    },
    {
      "cell_type": "code",
      "metadata": {
        "id": "HHizmZhDXnsk",
        "colab_type": "code",
        "colab": {}
      },
      "source": [
        "# Agora é necessário fazer inicialização de variável.\n",
        "# Configurar X (dado de treinamento) e y (variável alvo)\n",
        "\n",
        "cols = df.shape[1]\n",
        "X = df.iloc[:,0:cols-1]\n",
        "y = df.iloc[:,cols-1:cols]"
      ],
      "execution_count": 0,
      "outputs": []
    },
    {
      "cell_type": "code",
      "metadata": {
        "id": "Gpshr6uXZL3O",
        "colab_type": "code",
        "outputId": "f04d8c93-04fa-49ea-f7c6-7a1f6794525b",
        "colab": {
          "base_uri": "https://localhost:8080/",
          "height": 204
        }
      },
      "source": [
        "# Conferir X (conjunto de treinamento) e y (variável de destino).\n",
        "X.head()"
      ],
      "execution_count": 39,
      "outputs": [
        {
          "output_type": "execute_result",
          "data": {
            "text/html": [
              "<div>\n",
              "<style scoped>\n",
              "    .dataframe tbody tr th:only-of-type {\n",
              "        vertical-align: middle;\n",
              "    }\n",
              "\n",
              "    .dataframe tbody tr th {\n",
              "        vertical-align: top;\n",
              "    }\n",
              "\n",
              "    .dataframe thead th {\n",
              "        text-align: right;\n",
              "    }\n",
              "</style>\n",
              "<table border=\"1\" class=\"dataframe\">\n",
              "  <thead>\n",
              "    <tr style=\"text-align: right;\">\n",
              "      <th></th>\n",
              "      <th>Ones</th>\n",
              "      <th>Population</th>\n",
              "    </tr>\n",
              "  </thead>\n",
              "  <tbody>\n",
              "    <tr>\n",
              "      <th>0</th>\n",
              "      <td>1</td>\n",
              "      <td>6.1101</td>\n",
              "    </tr>\n",
              "    <tr>\n",
              "      <th>1</th>\n",
              "      <td>1</td>\n",
              "      <td>5.5277</td>\n",
              "    </tr>\n",
              "    <tr>\n",
              "      <th>2</th>\n",
              "      <td>1</td>\n",
              "      <td>8.5186</td>\n",
              "    </tr>\n",
              "    <tr>\n",
              "      <th>3</th>\n",
              "      <td>1</td>\n",
              "      <td>7.0032</td>\n",
              "    </tr>\n",
              "    <tr>\n",
              "      <th>4</th>\n",
              "      <td>1</td>\n",
              "      <td>5.8598</td>\n",
              "    </tr>\n",
              "  </tbody>\n",
              "</table>\n",
              "</div>"
            ],
            "text/plain": [
              "   Ones  Population\n",
              "0     1      6.1101\n",
              "1     1      5.5277\n",
              "2     1      8.5186\n",
              "3     1      7.0032\n",
              "4     1      5.8598"
            ]
          },
          "metadata": {
            "tags": []
          },
          "execution_count": 39
        }
      ]
    },
    {
      "cell_type": "code",
      "metadata": {
        "id": "b8SI3HPgZdUs",
        "colab_type": "code",
        "outputId": "a8a47c70-3324-48de-b524-f87e07bb68c4",
        "colab": {
          "base_uri": "https://localhost:8080/",
          "height": 204
        }
      },
      "source": [
        "y.head()"
      ],
      "execution_count": 40,
      "outputs": [
        {
          "output_type": "execute_result",
          "data": {
            "text/html": [
              "<div>\n",
              "<style scoped>\n",
              "    .dataframe tbody tr th:only-of-type {\n",
              "        vertical-align: middle;\n",
              "    }\n",
              "\n",
              "    .dataframe tbody tr th {\n",
              "        vertical-align: top;\n",
              "    }\n",
              "\n",
              "    .dataframe thead th {\n",
              "        text-align: right;\n",
              "    }\n",
              "</style>\n",
              "<table border=\"1\" class=\"dataframe\">\n",
              "  <thead>\n",
              "    <tr style=\"text-align: right;\">\n",
              "      <th></th>\n",
              "      <th>Profit</th>\n",
              "    </tr>\n",
              "  </thead>\n",
              "  <tbody>\n",
              "    <tr>\n",
              "      <th>0</th>\n",
              "      <td>17.5920</td>\n",
              "    </tr>\n",
              "    <tr>\n",
              "      <th>1</th>\n",
              "      <td>9.1302</td>\n",
              "    </tr>\n",
              "    <tr>\n",
              "      <th>2</th>\n",
              "      <td>13.6620</td>\n",
              "    </tr>\n",
              "    <tr>\n",
              "      <th>3</th>\n",
              "      <td>11.8540</td>\n",
              "    </tr>\n",
              "    <tr>\n",
              "      <th>4</th>\n",
              "      <td>6.8233</td>\n",
              "    </tr>\n",
              "  </tbody>\n",
              "</table>\n",
              "</div>"
            ],
            "text/plain": [
              "    Profit\n",
              "0  17.5920\n",
              "1   9.1302\n",
              "2  13.6620\n",
              "3  11.8540\n",
              "4   6.8233"
            ]
          },
          "metadata": {
            "tags": []
          },
          "execution_count": 40
        }
      ]
    },
    {
      "cell_type": "code",
      "metadata": {
        "id": "EYorNzZ6ZsU_",
        "colab_type": "code",
        "colab": {}
      },
      "source": [
        "# A função de custo utiliza matrizes numpy, para isso precisamos converter X e y em matrizes Numpy para podermos usá-las.\n",
        "# Os valores de X e Y não são valores escalares, e sim matrizes, onde as colunas representam os exemplos do conjunto de treinamento. \n",
        "# Também precisamos instanciar o teta.\n",
        "\n",
        "X = np.matrix(X.values)\n",
        "y = np.matrix(y.values)\n",
        "theta = np.matrix(np.array([0,0]))"
      ],
      "execution_count": 0,
      "outputs": []
    },
    {
      "cell_type": "code",
      "metadata": {
        "id": "jvfNj-zHKX-N",
        "colab_type": "code",
        "outputId": "0ca12a9e-9fec-4ebb-97d7-a02dfc94ce41",
        "colab": {
          "base_uri": "https://localhost:8080/",
          "height": 34
        }
      },
      "source": [
        "# Vamos ver como ficou teta\n",
        "theta"
      ],
      "execution_count": 42,
      "outputs": [
        {
          "output_type": "execute_result",
          "data": {
            "text/plain": [
              "matrix([[0, 0]])"
            ]
          },
          "metadata": {
            "tags": []
          },
          "execution_count": 42
        }
      ]
    },
    {
      "cell_type": "code",
      "metadata": {
        "id": "VoKUt9dyKlcY",
        "colab_type": "code",
        "outputId": "37e55982-f0be-4d4f-a083-2088eaa5175f",
        "colab": {
          "base_uri": "https://localhost:8080/",
          "height": 34
        }
      },
      "source": [
        "# Ao depurar operações da matriz é bom sempre observar o \"formato das matrizes\" com as quais você está lidando. \n",
        "# Também é útil lembrar, que multiplicações entre matrizes são: (i x j) * (j x k) = (i x k), onde i, j e k são as dimensões relativas da matriz.\n",
        "\n",
        "# Ver o formatao das matrizes\n",
        "\n",
        "X.shape, theta.shape, y.shape"
      ],
      "execution_count": 43,
      "outputs": [
        {
          "output_type": "execute_result",
          "data": {
            "text/plain": [
              "((97, 2), (1, 2), (97, 1))"
            ]
          },
          "metadata": {
            "tags": []
          },
          "execution_count": 43
        }
      ]
    },
    {
      "cell_type": "code",
      "metadata": {
        "id": "fRz8PGHIKyb4",
        "colab_type": "code",
        "outputId": "1d28be10-56c9-4e16-f26c-88c07f302664",
        "colab": {
          "base_uri": "https://localhost:8080/",
          "height": 34
        }
      },
      "source": [
        "#  Agora pode-se testar a função custo. Os parâmetros foram inicializados como 0, portanto a solução ainda não é ótima, mas podemos ver se funciona.\n",
        "\n",
        "# Calcular o custo da solução inicial (0 valores para theta).\n",
        "computeCost(X, y, theta)"
      ],
      "execution_count": 44,
      "outputs": [
        {
          "output_type": "execute_result",
          "data": {
            "text/plain": [
              "32.072733877455676"
            ]
          },
          "metadata": {
            "tags": []
          },
          "execution_count": 44
        }
      ]
    },
    {
      "cell_type": "code",
      "metadata": {
        "id": "B8CWBWZbLKa4",
        "colab_type": "code",
        "colab": {}
      },
      "source": [
        "# Ao utilizar o gradiente descendente, para cada iteração, é calculado o gradiente doerro para descobrir a direção apropriada do vetor de parâmetro. \n",
        "# Em outras palavras, calcula-se as alterações a serem feitas nos parâmetros para reduzir o erro, aproximando nossa solução da solução ideal (melhor ajuste).\n",
        "# Como utilizamos álgebra linear e numpy para a solução, a implementação não é 100% ideal. Existe uma maneira de se livrar desse loop interno e atualizar todos \n",
        "# os parâmetros de uma só vez, mas não é o objetivo aqui.\n",
        "\n",
        "# Agora é necessário definir uma função para executar a o gradiente descendente nos parâmetros theta usando as regras de atualização definidas.\n",
        "\n",
        "def gradientDescent(X, y, theta, alpha, iters):\n",
        "    temp = np.matrix(np.zeros(theta.shape))\n",
        "    parameters = int(theta.ravel().shape[1])\n",
        "    cost = np.zeros(iters)\n",
        "    \n",
        "    for i in range(iters):\n",
        "        error = (X * theta.T) - y\n",
        "        \n",
        "        for j in range(parameters):\n",
        "            term = np.multiply(error, X[:,j])\n",
        "            temp[0,j] = theta[0,j] - ((alpha / len(X)) * np.sum(term))\n",
        "            \n",
        "        theta = temp\n",
        "        cost[i] = computeCost(X, y, theta)\n",
        "        \n",
        "    return theta, cost"
      ],
      "execution_count": 0,
      "outputs": []
    },
    {
      "cell_type": "code",
      "metadata": {
        "id": "fjkBz_deMnfV",
        "colab_type": "code",
        "colab": {}
      },
      "source": [
        "# Algumas variáveis foram adicionadas. A função de gradiente descendente possui os parâmetros 'alfa' e 'iters'. \n",
        "# Alfa é a taxa de aprendizado - é um fator na regra de atualização dos parâmetros que ajuda a determinar a rapidez com que o algoritmo converge para a \n",
        "# solução ideal. \n",
        "# Iters é apenas o número de iterações. \n",
        "# Não há uma regra rígida e rápida sobre como inicializar esses parâmetros e, geralmente, é feito por tentativa e erro.\n",
        "\n",
        "# Agora que se tem uma maneira de avaliar as soluções e uma maneira de encontrar uma boa solução, é hora de aplicar isso ao conjunto de dados.\n",
        "\n",
        "# Inicializar as variáveis ​​adicionais - a taxa de aprendizado alfa e o número de iterações a serem executadas.\n",
        "\n",
        "alpha = 0.01\n",
        "iters = 1000"
      ],
      "execution_count": 0,
      "outputs": []
    },
    {
      "cell_type": "code",
      "metadata": {
        "id": "FL3hfjikM4S7",
        "colab_type": "code",
        "outputId": "b01e82f1-577c-4da1-e95d-2919ef3f382a",
        "colab": {
          "base_uri": "https://localhost:8080/",
          "height": 34
        }
      },
      "source": [
        "# Executar o algoritmo de gradiente descendente para ajustar o parâmetro teta ao conjunto de treinamento.\n",
        "\n",
        "g, cost = gradientDescent(X, y, theta, alpha, iters)\n",
        "g"
      ],
      "execution_count": 47,
      "outputs": [
        {
          "output_type": "execute_result",
          "data": {
            "text/plain": [
              "matrix([[-3.24140214,  1.1272942 ]])"
            ]
          },
          "metadata": {
            "tags": []
          },
          "execution_count": 47
        }
      ]
    },
    {
      "cell_type": "code",
      "metadata": {
        "id": "8X0frTkVNJ_w",
        "colab_type": "code",
        "outputId": "61db3e5b-788a-4207-cf70-a86b6b999330",
        "colab": {
          "base_uri": "https://localhost:8080/",
          "height": 34
        }
      },
      "source": [
        "# Agora tem-se um vetor do parâmetro que descreve o que acredita-se ser o modelo linear ideal para o conjunto de dados. \n",
        "# Uma maneira rápida de avaliar o quão bom é o modelo de regressão é analisar o erro total da nova solução.\n",
        "\n",
        "# Agora podemos calcular o custo (erro) do modelo treinado usando os parâmetros ajustados.\n",
        "\n",
        "computeCost(X, y, g)"
      ],
      "execution_count": 48,
      "outputs": [
        {
          "output_type": "execute_result",
          "data": {
            "text/plain": [
              "4.515955503078912"
            ]
          },
          "metadata": {
            "tags": []
          },
          "execution_count": 48
        }
      ]
    },
    {
      "cell_type": "code",
      "metadata": {
        "id": "t4_YUcFlajFA",
        "colab_type": "code",
        "colab": {}
      },
      "source": [
        "# Esse valor é muito melhor que 32, mas não é uma maneira muito intuitiva de ver isso. Para isso temos outras técnicas à nossa disposição."
      ],
      "execution_count": 0,
      "outputs": []
    },
    {
      "cell_type": "code",
      "metadata": {
        "id": "uPg9myWDNWy6",
        "colab_type": "code",
        "outputId": "e890590a-a11a-45ff-e7ba-6c134aa15cb9",
        "colab": {
          "base_uri": "https://localhost:8080/",
          "height": 530
        }
      },
      "source": [
        "# Plotar o modelo linear com os dados para ver como ele se encaixa -> sobrepor uma linha que representa o modelo em cima do gráfico de dispersão dos dados \n",
        "# para ver como eles se encaixam. \n",
        "\n",
        "# Podemos usar a função \"linspace\" da numpy para criar uma série de pontos com espaçamento uniforme dentro do intervalo de nossos dados e, em seguida, \n",
        "# \"avaliar\" esses pontos usando nosso modelo para ver qual seria o lucro esperado. Podemos então transformá-lo em um gráfico de linhas e plotá-lo.\n",
        "\n",
        "x = np.linspace(df.Population.min(), df.Population.max(), 100)\n",
        "f = g[0, 0] + (g[0, 1] * x)\n",
        "\n",
        "fig, ax = plt.subplots(figsize=(12,8))\n",
        "ax.plot(x, f, 'r', label='Previsão')\n",
        "ax.scatter(df.Population, df.Profit, label='Dados de Treinamento')\n",
        "ax.legend(loc=2)\n",
        "ax.set_xlabel('População')\n",
        "ax.set_ylabel('Lucro')\n",
        "ax.set_title('Lucro Previsto x Tamanho da População')"
      ],
      "execution_count": 50,
      "outputs": [
        {
          "output_type": "execute_result",
          "data": {
            "text/plain": [
              "Text(0.5, 1.0, 'Lucro Previsto x Tamanho da População')"
            ]
          },
          "metadata": {
            "tags": []
          },
          "execution_count": 50
        },
        {
          "output_type": "display_data",
          "data": {
            "image/png": "[encoded data removed]",
            "text/plain": [
              "<Figure size 864x576 with 1 Axes>"
            ]
          },
          "metadata": {
            "tags": []
          }
        }
      ]
    },
    {
      "cell_type": "code",
      "metadata": {
        "id": "bjVzNQYdOGwk",
        "colab_type": "code",
        "outputId": "0aa83a61-6490-4221-9299-366b01065d9a",
        "colab": {
          "base_uri": "https://localhost:8080/",
          "height": 530
        }
      },
      "source": [
        "# A função de gradiente descendente também gera um vetor com o custo em cada iteração de treinamento, que  também pode ser plotado. \n",
        "\n",
        "fig, ax = plt.subplots(figsize=(12,8))\n",
        "ax.plot(np.arange(iters), cost, 'r')\n",
        "ax.set_xlabel('Iterações')\n",
        "ax.set_ylabel('Custo')\n",
        "ax.set_title('Erro x Treinamento')"
      ],
      "execution_count": 51,
      "outputs": [
        {
          "output_type": "execute_result",
          "data": {
            "text/plain": [
              "Text(0.5, 1.0, 'Erro x Treinamento')"
            ]
          },
          "metadata": {
            "tags": []
          },
          "execution_count": 51
        },
        {
          "output_type": "display_data",
          "data": {
            "image/png": "[encoded data removed]",
            "text/plain": [
              "<Figure size 864x576 with 1 Axes>"
            ]
          },
          "metadata": {
            "tags": []
          }
        }
      ]
    },
    {
      "cell_type": "code",
      "metadata": {
        "id": "4Sj7saVMb3eU",
        "colab_type": "code",
        "colab": {}
      },
      "source": [
        "# Observe que o custo sempre diminui - este é um exemplo do que é chamado de problema de otimização convexa. Se você plotar todo o espaço da solução para \n",
        "# o problema (ou seja, plotar o custo em função dos parâmetros do modelo para todos os valores possíveis dos parâmetros), verá que ele se parece com uma \n",
        "# \"tigela\", com uma \"bacia\" representando a solução ideal."
      ],
      "execution_count": 0,
      "outputs": []
    },
    {
      "cell_type": "markdown",
      "metadata": {
        "id": "k6dFbL9p3mw8",
        "colab_type": "text"
      },
      "source": [
        "### REGRESSÃO LINEAR MÚLTIPLA\n",
        "\n",
        "Agora vamos analisar um dataset com mais de uma variável. O dataset é um conjunto de dados de preços de casas com 2 variáveis ​​(tamanho da casa em pés quadrados e número de quartos) e uma meta (preço da casa). Vamos usar as técnicas já aplicadas para analisar esse conjunto de dados.\n",
        "\n"
      ]
    },
    {
      "cell_type": "code",
      "metadata": {
        "id": "DNEeqORp4P8v",
        "colab_type": "code",
        "colab": {
          "base_uri": "https://localhost:8080/",
          "height": 204
        },
        "outputId": "dd448783-4396-44e5-8755-521f877e7d0f"
      },
      "source": [
        "# IMPORTAR ARQUIVOS DO GITHUB: como não possui cabeçalho, é necessário montá-lo:\n",
        "\n",
        "df2 = pd.read_csv(\"https://raw.githubusercontent.com/jdwittenauer/ipython-notebooks/master/data/ex1data2.txt\", header=None, names=['Tamanho', 'N_quartos', 'Preço'])\n",
        "\n",
        "# mostrar o dataset\n",
        "\n",
        "df2.head()"
      ],
      "execution_count": 53,
      "outputs": [
        {
          "output_type": "execute_result",
          "data": {
            "text/html": [
              "<div>\n",
              "<style scoped>\n",
              "    .dataframe tbody tr th:only-of-type {\n",
              "        vertical-align: middle;\n",
              "    }\n",
              "\n",
              "    .dataframe tbody tr th {\n",
              "        vertical-align: top;\n",
              "    }\n",
              "\n",
              "    .dataframe thead th {\n",
              "        text-align: right;\n",
              "    }\n",
              "</style>\n",
              "<table border=\"1\" class=\"dataframe\">\n",
              "  <thead>\n",
              "    <tr style=\"text-align: right;\">\n",
              "      <th></th>\n",
              "      <th>Tamanho</th>\n",
              "      <th>N_quartos</th>\n",
              "      <th>Preço</th>\n",
              "    </tr>\n",
              "  </thead>\n",
              "  <tbody>\n",
              "    <tr>\n",
              "      <th>0</th>\n",
              "      <td>2104</td>\n",
              "      <td>3</td>\n",
              "      <td>399900</td>\n",
              "    </tr>\n",
              "    <tr>\n",
              "      <th>1</th>\n",
              "      <td>1600</td>\n",
              "      <td>3</td>\n",
              "      <td>329900</td>\n",
              "    </tr>\n",
              "    <tr>\n",
              "      <th>2</th>\n",
              "      <td>2400</td>\n",
              "      <td>3</td>\n",
              "      <td>369000</td>\n",
              "    </tr>\n",
              "    <tr>\n",
              "      <th>3</th>\n",
              "      <td>1416</td>\n",
              "      <td>2</td>\n",
              "      <td>232000</td>\n",
              "    </tr>\n",
              "    <tr>\n",
              "      <th>4</th>\n",
              "      <td>3000</td>\n",
              "      <td>4</td>\n",
              "      <td>539900</td>\n",
              "    </tr>\n",
              "  </tbody>\n",
              "</table>\n",
              "</div>"
            ],
            "text/plain": [
              "   Tamanho  N_quartos   Preço\n",
              "0     2104          3  399900\n",
              "1     1600          3  329900\n",
              "2     2400          3  369000\n",
              "3     1416          2  232000\n",
              "4     3000          4  539900"
            ]
          },
          "metadata": {
            "tags": []
          },
          "execution_count": 53
        }
      ]
    },
    {
      "cell_type": "code",
      "metadata": {
        "id": "3wN7BNDh5EXO",
        "colab_type": "code",
        "colab": {
          "base_uri": "https://localhost:8080/",
          "height": 204
        },
        "outputId": "a8939e45-9f72-48d1-e452-f26ccedb8a66"
      },
      "source": [
        "# Para este exercício é necessário realizar outra etapa de pré-processamento, a normalização dos dados, o que é muito fácil utilizando a biblioteca pandas.\n",
        "\n",
        "df2 = (df2 - df2.mean()) / df2.std()\n",
        "df2.head()"
      ],
      "execution_count": 54,
      "outputs": [
        {
          "output_type": "execute_result",
          "data": {
            "text/html": [
              "<div>\n",
              "<style scoped>\n",
              "    .dataframe tbody tr th:only-of-type {\n",
              "        vertical-align: middle;\n",
              "    }\n",
              "\n",
              "    .dataframe tbody tr th {\n",
              "        vertical-align: top;\n",
              "    }\n",
              "\n",
              "    .dataframe thead th {\n",
              "        text-align: right;\n",
              "    }\n",
              "</style>\n",
              "<table border=\"1\" class=\"dataframe\">\n",
              "  <thead>\n",
              "    <tr style=\"text-align: right;\">\n",
              "      <th></th>\n",
              "      <th>Tamanho</th>\n",
              "      <th>N_quartos</th>\n",
              "      <th>Preço</th>\n",
              "    </tr>\n",
              "  </thead>\n",
              "  <tbody>\n",
              "    <tr>\n",
              "      <th>0</th>\n",
              "      <td>0.130010</td>\n",
              "      <td>-0.223675</td>\n",
              "      <td>0.475747</td>\n",
              "    </tr>\n",
              "    <tr>\n",
              "      <th>1</th>\n",
              "      <td>-0.504190</td>\n",
              "      <td>-0.223675</td>\n",
              "      <td>-0.084074</td>\n",
              "    </tr>\n",
              "    <tr>\n",
              "      <th>2</th>\n",
              "      <td>0.502476</td>\n",
              "      <td>-0.223675</td>\n",
              "      <td>0.228626</td>\n",
              "    </tr>\n",
              "    <tr>\n",
              "      <th>3</th>\n",
              "      <td>-0.735723</td>\n",
              "      <td>-1.537767</td>\n",
              "      <td>-0.867025</td>\n",
              "    </tr>\n",
              "    <tr>\n",
              "      <th>4</th>\n",
              "      <td>1.257476</td>\n",
              "      <td>1.090417</td>\n",
              "      <td>1.595389</td>\n",
              "    </tr>\n",
              "  </tbody>\n",
              "</table>\n",
              "</div>"
            ],
            "text/plain": [
              "    Tamanho  N_quartos     Preço\n",
              "0  0.130010  -0.223675  0.475747\n",
              "1 -0.504190  -0.223675 -0.084074\n",
              "2  0.502476  -0.223675  0.228626\n",
              "3 -0.735723  -1.537767 -0.867025\n",
              "4  1.257476   1.090417  1.595389"
            ]
          },
          "metadata": {
            "tags": []
          },
          "execution_count": 54
        }
      ]
    },
    {
      "cell_type": "code",
      "metadata": {
        "id": "-W62yfRN5hYw",
        "colab_type": "code",
        "colab": {
          "base_uri": "https://localhost:8080/",
          "height": 34
        },
        "outputId": "f1b5af7e-d205-445a-f2ca-54061b2224a0"
      },
      "source": [
        "# Agora basta repetir as etapas de pré-processamento realizadas para a regressão simples, executando o procedimento de regressão linear no novo dataframe.\n",
        "\n",
        "# Adicionar a coluna de 'uns'\n",
        "df2.insert(0, 'Ones', 1)\n",
        "\n",
        "# configurar X (conjunto de treinamento) and y (variável alvo)\n",
        "cols = df2.shape[1]\n",
        "X2 = df2.iloc[:,0:cols-1]\n",
        "y2 = df2.iloc[:,cols-1:cols]\n",
        "\n",
        "# Converter para matrizes e iniciar o theta\n",
        "X2 = np.matrix(X2.values)\n",
        "y2 = np.matrix(y2.values)\n",
        "theta2 = np.matrix(np.array([0,0,0]))\n",
        "\n",
        "# Executar a regressão linear utilizando o conjunto de dados\n",
        "g2, cost2 = gradientDescent(X2, y2, theta2, alpha, iters)\n",
        "\n",
        "# obter o custo (erro) do modelo\n",
        "computeCost(X2, y2, g2)"
      ],
      "execution_count": 55,
      "outputs": [
        {
          "output_type": "execute_result",
          "data": {
            "text/plain": [
              "0.13070336960771892"
            ]
          },
          "metadata": {
            "tags": []
          },
          "execution_count": 55
        }
      ]
    },
    {
      "cell_type": "code",
      "metadata": {
        "id": "8EHzpeBa6sOM",
        "colab_type": "code",
        "colab": {
          "base_uri": "https://localhost:8080/",
          "height": 530
        },
        "outputId": "253454c1-5f92-4e56-8707-446b3e984949"
      },
      "source": [
        "# Conferir o andamento do treinamento através de um gráfico\n",
        "\n",
        "fig, ax = plt.subplots(figsize=(12,8))\n",
        "ax.plot(np.arange(iters), cost2, 'r')\n",
        "ax.set_xlabel('Iterações')\n",
        "ax.set_ylabel('Custo')\n",
        "ax.set_title('Erro x Treinamento')"
      ],
      "execution_count": 56,
      "outputs": [
        {
          "output_type": "execute_result",
          "data": {
            "text/plain": [
              "Text(0.5, 1.0, 'Erro x Treinamento')"
            ]
          },
          "metadata": {
            "tags": []
          },
          "execution_count": 56
        },
        {
          "output_type": "display_data",
          "data": {
            "image/png": "[encoded data removed]",
            "text/plain": [
              "<Figure size 864x576 with 1 Axes>"
            ]
          },
          "metadata": {
            "tags": []
          }
        }
      ]
    },
    {
      "cell_type": "code",
      "metadata": {
        "id": "dNcN_X1b7Kma",
        "colab_type": "code",
        "colab": {
          "base_uri": "https://localhost:8080/",
          "height": 34
        },
        "outputId": "f6b4043f-ab79-4c49-9793-880f75b2eeaf"
      },
      "source": [
        "# Ao invés de implementar esses algoritmos do zero, também pode-se usar a função de regressão linear 'scikit-learn'. \n",
        "# Ao aplicar o algoritmo de regressão linear 'scikit-learn' aos dados da parte 1 o que retorna é:\n",
        "\n",
        "from sklearn import linear_model\n",
        "model = linear_model.LinearRegression()\n",
        "model.fit(X, y)"
      ],
      "execution_count": 57,
      "outputs": [
        {
          "output_type": "execute_result",
          "data": {
            "text/plain": [
              "LinearRegression(copy_X=True, fit_intercept=True, n_jobs=None, normalize=False)"
            ]
          },
          "metadata": {
            "tags": []
          },
          "execution_count": 57
        }
      ]
    },
    {
      "cell_type": "code",
      "metadata": {
        "id": "oyjIoYdP7l56",
        "colab_type": "code",
        "colab": {
          "base_uri": "https://localhost:8080/",
          "height": 530
        },
        "outputId": "d528c15e-b540-4475-9183-6112b04c8723"
      },
      "source": [
        "x = np.array(X[:, 1].A1)\n",
        "f = model.predict(X).flatten()\n",
        "\n",
        "fig, ax = plt.subplots(figsize=(12,8))\n",
        "ax.plot(x, f, 'r', label='Previsão')\n",
        "ax.scatter(df.Population, df.Profit, label='Conjunto de treinamento')\n",
        "ax.legend(loc=2)\n",
        "ax.set_xlabel('População')\n",
        "ax.set_ylabel('Lucro')\n",
        "ax.set_title('Lucro Previsto x População')\n"
      ],
      "execution_count": 58,
      "outputs": [
        {
          "output_type": "execute_result",
          "data": {
            "text/plain": [
              "Text(0.5, 1.0, 'Lucro Previsto x População')"
            ]
          },
          "metadata": {
            "tags": []
          },
          "execution_count": 58
        },
        {
          "output_type": "display_data",
          "data": {
            "image/png": "[encoded data removed]",
            "text/plain": [
              "<Figure size 864x576 with 1 Axes>"
            ]
          },
          "metadata": {
            "tags": []
          }
        }
      ]
    }
  ]
}